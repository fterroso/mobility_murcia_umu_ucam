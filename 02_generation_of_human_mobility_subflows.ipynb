{
 "cells": [
  {
   "cell_type": "markdown",
   "metadata": {},
   "source": [
    "# Generation of the Candidate Flows of Human Mobility"
   ]
  },
  {
   "cell_type": "code",
   "execution_count": 10,
   "metadata": {},
   "outputs": [],
   "source": [
    "import pandas as pd\n",
    "import numpy as np\n",
    "\n",
    "import os\n",
    "import datetime\n",
    "from datetime import date, timedelta\n",
    "from tqdm import tqdm_notebook\n",
    "\n",
    "import matplotlib.pyplot as plt\n",
    "%matplotlib inline\n",
    "\n",
    "data_path = os.path.join('/','home','fterroso','data','Spain-INE-mobility-study-2020','muestra1')"
   ]
  },
  {
   "cell_type": "markdown",
   "metadata": {},
   "source": [
    "### Target Mobility Areas (MAs) "
   ]
  },
  {
   "cell_type": "code",
   "execution_count": 11,
   "metadata": {},
   "outputs": [],
   "source": [
    "target_regions_ids= ['3003001','3003002','3003003']"
   ]
  },
  {
   "cell_type": "markdown",
   "metadata": {},
   "source": [
    "## General functions"
   ]
  },
  {
   "cell_type": "code",
   "execution_count": 12,
   "metadata": {},
   "outputs": [],
   "source": [
    "# %load 00_general_functions.py\n",
    "#!/usr/bin/env python\n",
    "\n",
    "# In[1]:\n",
    "\n",
    "\n",
    "def generate_days_fn(init_date, final_date):\n",
    "    \n",
    "    delta = final_date - init_date       # as timedelta\n",
    "\n",
    "    target_days = []\n",
    "    for i in range(delta.days + 1):\n",
    "        day = init_date + timedelta(days=i)\n",
    "        target_days.append(day)\n",
    "    \n",
    "    return target_days\n",
    "\n",
    "\n",
    "# In[2]:\n",
    "\n",
    "\n",
    "def read_INE_trips_date_fn(date_, trips_type='all', flow_type= 'all'):\n",
    "    date_str= date_.strftime('%Y%m%d')\n",
    "    df_date= pd.read_csv(os.path.join(data_path, f'{date_str}_maestra_1_mitma_distrito.txt'), \n",
    "                             sep='|',dtype={'origen':str, 'destino':str,'fecha':str, 'periodo':str})\n",
    "    \n",
    "    if flow_type== 'incoming':\n",
    "        df_date = df_date[df_date['destino'].isin(target_regions_ids)]\n",
    "    elif flow_type == 'outgoing':\n",
    "        df_date = df_date[df_date['origen'].isin(target_regions_ids)]\n",
    "    elif flow_type== 'all':\n",
    "        df_date = df_date[(df_date['destino'].isin(target_regions_ids)) |\n",
    "                          (df_date['origen'].isin(target_regions_ids))]\n",
    "    \n",
    "    if trips_type=='inter':\n",
    "        df_date= df_date[df_date['origen']!=df_date['destino']] #only keep trips between areas\n",
    "    elif trips_type=='intra':\n",
    "        df_date= df_date[df_date['origen']==df_date['destino']] #only keep trips within the areas\n",
    "    \n",
    "    \n",
    "    \n",
    "    #convert period column to a two-digit string\n",
    "    df_date['periodo'] = df_date['periodo'].apply(lambda x: x.zfill(2))\n",
    "    df_date= df_date.fillna(0) # set nan as 0\n",
    "    return df_date\n",
    "\n"
   ]
  },
  {
   "cell_type": "markdown",
   "metadata": {},
   "source": [
    "Target time period"
   ]
  },
  {
   "cell_type": "code",
   "execution_count": 13,
   "metadata": {},
   "outputs": [],
   "source": [
    "time_period= 'sept_oct'\n",
    "to_date = datetime.datetime.strptime('2020-10-31', '%Y-%m-%d')\n",
    "from_date = datetime.datetime.strptime('2020-09-15', '%Y-%m-%d')"
   ]
  },
  {
   "cell_type": "markdown",
   "metadata": {},
   "source": [
    "See shared excel file with criteria definitions"
   ]
  },
  {
   "cell_type": "code",
   "execution_count": 14,
   "metadata": {},
   "outputs": [],
   "source": [
    "criteria = {\n",
    "    'criterion_1' : {'destino':['3003001'], 'distancia': ['010-050','050-100', '100+'], 'actividad_destino':['trabajo']},\n",
    "    'criterion_2': {'destino':['3003002'], 'distancia': ['010-050','050-100', '100+'], 'actividad_destino':['trabajo']},\n",
    "    'criterion_3': {'origen':['3003001'],'destino':['3003001'], 'distancia': ['002-005','005-010','010-050','050-100', '100+'], 'actividad_destino':['trabajo']},\n",
    "    'criterion_4': {'origen':['3003002'],'destino':['3003002'], 'distancia': ['002-005','005-010','010-050','050-100', '100+'], 'actividad_destino':['trabajo']},\n",
    "    'criterion_5': {'destino':['3003001'], 'distancia': ['005-010','010-050','050-100', '100+'], 'actividad_origen':['casa'], 'actividad_destino':['trabajo']},\n",
    "    'criterion_6': {'destino':['3003002'], 'distancia': ['005-010','010-050','050-100', '100+'], 'actividad_origen':['casa'], 'actividad_destino':['trabajo']},\n",
    "    'criterion_7': {'origen':['3003001'], 'distancia': ['010-050','050-100', '100+'], 'actividad_destino':['casa']},\n",
    "    'criterion_8': {'origen':['3003002'], 'distancia': ['010-050','050-100', '100+'], 'actividad_destino':['casa']},\n",
    "    'criterion_9' : {'destino':['3003001'], 'distancia': ['010-050','050-100', '100+']},\n",
    "    'criterion_10': {'origen':['3003001'], 'distancia': ['010-050','050-100', '100+']}\n",
    "}\n"
   ]
  },
  {
   "cell_type": "code",
   "execution_count": 15,
   "metadata": {},
   "outputs": [],
   "source": [
    "def generate_timestamp(row):\n",
    "    f = row['fecha']\n",
    "    h = row['periodo']\n",
    "    d= datetime.datetime.strptime(r'{} {}'.format(f,h), '%Y%m%d %H')\n",
    "    return d"
   ]
  },
  {
   "cell_type": "code",
   "execution_count": 16,
   "metadata": {},
   "outputs": [],
   "source": [
    "def generate_subflow_fn(from_date, to_date, criterion):\n",
    "    dfs= []\n",
    "    target_days = generate_days_fn(from_date, to_date)\n",
    "    for date in tqdm_notebook(target_days, leave= False):\n",
    "        df = read_INE_trips_date_fn(date)\n",
    "        for k in criterion:\n",
    "            df = df[df[k].isin(criterion[k])]\n",
    "        dfs.append(df)\n",
    "    \n",
    "    criterion_df = pd.concat(dfs,axis=0)\n",
    "    sum_trips_c_df= criterion_df.groupby(['fecha','periodo']).agg({'viajes':['sum']})\n",
    "    sum_trips_c_df= sum_trips_c_df.reset_index()\n",
    "    sum_trips_c_df.columns= sum_trips_c_df.columns.droplevel(1)\n",
    "    sum_trips_c_df['timestamp'] = sum_trips_c_df.apply(generate_timestamp, axis=1)\n",
    "    sum_trips_c_df = sum_trips_c_df.set_index('timestamp')\n",
    "    \n",
    "    \n",
    "    # Index with the hour-based time series\n",
    "    index = from_date + pd.to_timedelta(np.arange(len(target_days)*24), 'h')\n",
    "    df_ = pd.DataFrame(np.nan,index=index, columns=['n_viajes'])\n",
    "    df_['n_viajes'] = sum_trips_c_df['viajes']\n",
    "\n",
    "    return df_"
   ]
  },
  {
   "cell_type": "code",
   "execution_count": 17,
   "metadata": {},
   "outputs": [
    {
     "data": {
      "application/vnd.jupyter.widget-view+json": {
       "model_id": "628c1533684d4e7c8508ad09369c4769",
       "version_major": 2,
       "version_minor": 0
      },
      "text/plain": [
       "HBox(children=(IntProgress(value=0, max=10), HTML(value='')))"
      ]
     },
     "metadata": {},
     "output_type": "display_data"
    },
    {
     "data": {
      "application/vnd.jupyter.widget-view+json": {
       "model_id": "",
       "version_major": 2,
       "version_minor": 0
      },
      "text/plain": [
       "HBox(children=(IntProgress(value=0, max=47), HTML(value='')))"
      ]
     },
     "metadata": {},
     "output_type": "display_data"
    },
    {
     "data": {
      "application/vnd.jupyter.widget-view+json": {
       "model_id": "",
       "version_major": 2,
       "version_minor": 0
      },
      "text/plain": [
       "HBox(children=(IntProgress(value=0, max=47), HTML(value='')))"
      ]
     },
     "metadata": {},
     "output_type": "display_data"
    },
    {
     "data": {
      "application/vnd.jupyter.widget-view+json": {
       "model_id": "",
       "version_major": 2,
       "version_minor": 0
      },
      "text/plain": [
       "HBox(children=(IntProgress(value=0, max=47), HTML(value='')))"
      ]
     },
     "metadata": {},
     "output_type": "display_data"
    },
    {
     "data": {
      "application/vnd.jupyter.widget-view+json": {
       "model_id": "",
       "version_major": 2,
       "version_minor": 0
      },
      "text/plain": [
       "HBox(children=(IntProgress(value=0, max=47), HTML(value='')))"
      ]
     },
     "metadata": {},
     "output_type": "display_data"
    },
    {
     "data": {
      "application/vnd.jupyter.widget-view+json": {
       "model_id": "",
       "version_major": 2,
       "version_minor": 0
      },
      "text/plain": [
       "HBox(children=(IntProgress(value=0, max=47), HTML(value='')))"
      ]
     },
     "metadata": {},
     "output_type": "display_data"
    },
    {
     "data": {
      "application/vnd.jupyter.widget-view+json": {
       "model_id": "",
       "version_major": 2,
       "version_minor": 0
      },
      "text/plain": [
       "HBox(children=(IntProgress(value=0, max=47), HTML(value='')))"
      ]
     },
     "metadata": {},
     "output_type": "display_data"
    },
    {
     "data": {
      "application/vnd.jupyter.widget-view+json": {
       "model_id": "",
       "version_major": 2,
       "version_minor": 0
      },
      "text/plain": [
       "HBox(children=(IntProgress(value=0, max=47), HTML(value='')))"
      ]
     },
     "metadata": {},
     "output_type": "display_data"
    },
    {
     "data": {
      "application/vnd.jupyter.widget-view+json": {
       "model_id": "",
       "version_major": 2,
       "version_minor": 0
      },
      "text/plain": [
       "HBox(children=(IntProgress(value=0, max=47), HTML(value='')))"
      ]
     },
     "metadata": {},
     "output_type": "display_data"
    },
    {
     "data": {
      "application/vnd.jupyter.widget-view+json": {
       "model_id": "",
       "version_major": 2,
       "version_minor": 0
      },
      "text/plain": [
       "HBox(children=(IntProgress(value=0, max=47), HTML(value='')))"
      ]
     },
     "metadata": {},
     "output_type": "display_data"
    },
    {
     "data": {
      "application/vnd.jupyter.widget-view+json": {
       "model_id": "",
       "version_major": 2,
       "version_minor": 0
      },
      "text/plain": [
       "HBox(children=(IntProgress(value=0, max=47), HTML(value='')))"
      ]
     },
     "metadata": {},
     "output_type": "display_data"
    },
    {
     "name": "stdout",
     "output_type": "stream",
     "text": [
      "\n"
     ]
    }
   ],
   "source": [
    "flows = []\n",
    "for c in tqdm_notebook(criteria):\n",
    "    flow_df = generate_subflow_fn(from_date, to_date, criteria[c])\n",
    "    flow_df.to_csv(os.path.join('data', 'INE_subflows','flow_{}_raw_{}.csv'.format(c, time_period)))\n",
    "    flows.append(flow_df)"
   ]
  },
  {
   "cell_type": "code",
   "execution_count": 18,
   "metadata": {},
   "outputs": [
    {
     "name": "stdout",
     "output_type": "stream",
     "text": [
      "That's all folks\n"
     ]
    }
   ],
   "source": [
    "print(\"That's all folks\")"
   ]
  }
 ],
 "metadata": {
  "kernelspec": {
   "display_name": "Python 3",
   "language": "python",
   "name": "python3"
  },
  "language_info": {
   "codemirror_mode": {
    "name": "ipython",
    "version": 3
   },
   "file_extension": ".py",
   "mimetype": "text/x-python",
   "name": "python",
   "nbconvert_exporter": "python",
   "pygments_lexer": "ipython3",
   "version": "3.9.1+"
  }
 },
 "nbformat": 4,
 "nbformat_minor": 2
}
