{
 "cells": [
  {
   "cell_type": "markdown",
   "metadata": {},
   "source": [
    "# Generation of the Candidate Flows of Human Mobility"
   ]
  },
  {
   "cell_type": "code",
   "execution_count": 39,
   "metadata": {},
   "outputs": [],
   "source": [
    "import pandas as pd\n",
    "import numpy as np\n",
    "\n",
    "import os\n",
    "import datetime\n",
    "from datetime import date, timedelta\n",
    "from tqdm import tqdm_notebook\n",
    "\n",
    "import matplotlib.pyplot as plt\n",
    "%matplotlib inline\n",
    "\n",
    "data_path = os.path.join('/','home','fterroso','data','Spain-INE-mobility-study-2020','muestra1')"
   ]
  },
  {
   "cell_type": "markdown",
   "metadata": {},
   "source": [
    "### Target Mobility Areas (MAs) "
   ]
  },
  {
   "cell_type": "code",
   "execution_count": 40,
   "metadata": {},
   "outputs": [],
   "source": [
    "target_regions_ids= ['3003001','3003002','3003003']"
   ]
  },
  {
   "cell_type": "markdown",
   "metadata": {},
   "source": [
    "## General functions"
   ]
  },
  {
   "cell_type": "code",
   "execution_count": 41,
   "metadata": {},
   "outputs": [],
   "source": [
    "# %load 00_general_functions.py\n",
    "#!/usr/bin/env python\n",
    "\n",
    "# In[1]:\n",
    "\n",
    "\n",
    "def generate_days_fn(init_date, final_date):\n",
    "    \n",
    "    delta = final_date - init_date       # as timedelta\n",
    "\n",
    "    target_days = []\n",
    "    for i in range(delta.days + 1):\n",
    "        day = init_date + timedelta(days=i)\n",
    "        target_days.append(day)\n",
    "    \n",
    "    return target_days\n",
    "\n",
    "\n",
    "# In[2]:\n",
    "\n",
    "\n",
    "def read_INE_trips_date_fn(date_, trips_type='all', flow_type= 'all'):\n",
    "    date_str= date_.strftime('%Y%m%d')\n",
    "    df_date= pd.read_csv(os.path.join(data_path, f'{date_str}_maestra_1_mitma_distrito.txt'), \n",
    "                             sep='|',dtype={'origen':str, 'destino':str,'fecha':str, 'periodo':str})\n",
    "    \n",
    "    if flow_type== 'incoming':\n",
    "        df_date = df_date[df_date['destino'].isin(target_regions_ids)]\n",
    "    elif flow_type == 'outgoing':\n",
    "        df_date = df_date[df_date['origen'].isin(target_regions_ids)]\n",
    "    elif flow_type== 'all':\n",
    "        df_date = df_date[(df_date['destino'].isin(target_regions_ids)) |\n",
    "                          (df_date['origen'].isin(target_regions_ids))]\n",
    "    \n",
    "    if trips_type=='inter':\n",
    "        df_date= df_date[df_date['origen']!=df_date['destino']] #only keep trips between areas\n",
    "    elif trips_type=='intra':\n",
    "        df_date= df_date[df_date['origen']==df_date['destino']] #only keep trips within the areas\n",
    "    \n",
    "    \n",
    "    \n",
    "    #convert period column to a two-digit string\n",
    "    df_date['periodo'] = df_date['periodo'].apply(lambda x: x.zfill(2))\n",
    "    df_date= df_date.fillna(0) # set nan as 0\n",
    "    return df_date\n",
    "\n"
   ]
  },
  {
   "cell_type": "markdown",
   "metadata": {},
   "source": [
    "Target time period"
   ]
  },
  {
   "cell_type": "code",
   "execution_count": 42,
   "metadata": {},
   "outputs": [],
   "source": [
    "to_date = datetime.datetime.strptime('2020-07-31', '%Y-%m-%d')\n",
    "from_date = datetime.datetime.strptime('2020-07-01', '%Y-%m-%d')"
   ]
  },
  {
   "cell_type": "markdown",
   "metadata": {},
   "source": [
    "See shared excel file with criteria definitions"
   ]
  },
  {
   "cell_type": "code",
   "execution_count": 43,
   "metadata": {},
   "outputs": [],
   "source": [
    "criteria = {\n",
    "    'criterion_1' : {'destino':['3003001'], 'distancia': ['010-050','050-100', '100+'], 'actividad_destino':['trabajo']},\n",
    "    'criterion_2': {'destino':['3003002'], 'distancia': ['010-050','050-100', '100+'], 'actividad_destino':['trabajo']},\n",
    "    #'criterion_3': {'origen':['3003001'],'destino':['3003001'], 'distancia': ['005-010','010-050','050-100', '100+'], 'actividad_destino':['trabajo']},\n",
    "    #'criterion_4': {'origen':['3003002'],'destino':['3003002'], 'distancia': ['005-010','010-050','050-100', '100+'], 'actividad_destino':['trabajo']},\n",
    "    'criterion_5': {'destino':['3003001'], 'distancia': ['005-010','010-050','050-100', '100+'], 'actividad_origen':['casa'], 'actividad_destino':['trabajo']},\n",
    "    'criterion_6': {'destino':['3003002'], 'distancia': ['005-010','010-050','050-100', '100+'], 'actividad_origen':['casa'], 'actividad_destino':['trabajo']},\n",
    "    'criterion_7': {'origen':['3003001'], 'distancia': ['010-050','050-100', '100+'], 'actividad_destino':['casa']},\n",
    "    'criterion_8': {'origen':['3003002'], 'distancia': ['010-050','050-100', '100+'], 'actividad_destino':['casa']}}\n"
   ]
  },
  {
   "cell_type": "code",
   "execution_count": 44,
   "metadata": {},
   "outputs": [],
   "source": [
    "def generate_timestamp(row):\n",
    "    f = row['fecha']\n",
    "    h = row['periodo']\n",
    "    d= datetime.datetime.strptime(r'{}-{}'.format(f,h), '%Y%m%d-%H')\n",
    "    return d"
   ]
  },
  {
   "cell_type": "code",
   "execution_count": 45,
   "metadata": {},
   "outputs": [],
   "source": [
    "def generate_subflow_fn(from_date, to_date, criterion):\n",
    "    dfs= []\n",
    "    target_days = generate_days_fn(from_date, to_date)\n",
    "    for date in tqdm_notebook(target_days, leave= False):\n",
    "        df = read_INE_trips_date_fn(date)\n",
    "        for k in criterion:\n",
    "            df = df[df[k].isin(criterion[k])]\n",
    "        dfs.append(df)\n",
    "    \n",
    "    criterion_df = pd.concat(dfs,axis=0)\n",
    "    #print(criterion_df.head())\n",
    "    sum_trips_c_df= criterion_df.groupby(['fecha','periodo']).agg({'viajes':['sum']})\n",
    "    sum_trips_c_df= sum_trips_c_df.reset_index()\n",
    "    sum_trips_c_df.columns= sum_trips_c_df.columns.droplevel(1)\n",
    "    #print(sum_trips_c_df.head())\n",
    "    sum_trips_c_df['timestamp'] = sum_trips_c_df.apply(generate_timestamp, axis=1)\n",
    "    \n",
    "    return sum_trips_c_df"
   ]
  },
  {
   "cell_type": "code",
   "execution_count": 46,
   "metadata": {},
   "outputs": [
    {
     "data": {
      "application/vnd.jupyter.widget-view+json": {
       "model_id": "de4d03872eeb4b8994558e4f0d682adc",
       "version_major": 2,
       "version_minor": 0
      },
      "text/plain": [
       "HBox(children=(IntProgress(value=0, max=6), HTML(value='')))"
      ]
     },
     "metadata": {},
     "output_type": "display_data"
    },
    {
     "data": {
      "application/vnd.jupyter.widget-view+json": {
       "model_id": "",
       "version_major": 2,
       "version_minor": 0
      },
      "text/plain": [
       "HBox(children=(IntProgress(value=0, max=31), HTML(value='')))"
      ]
     },
     "metadata": {},
     "output_type": "display_data"
    },
    {
     "data": {
      "application/vnd.jupyter.widget-view+json": {
       "model_id": "",
       "version_major": 2,
       "version_minor": 0
      },
      "text/plain": [
       "HBox(children=(IntProgress(value=0, max=31), HTML(value='')))"
      ]
     },
     "metadata": {},
     "output_type": "display_data"
    },
    {
     "data": {
      "application/vnd.jupyter.widget-view+json": {
       "model_id": "",
       "version_major": 2,
       "version_minor": 0
      },
      "text/plain": [
       "HBox(children=(IntProgress(value=0, max=31), HTML(value='')))"
      ]
     },
     "metadata": {},
     "output_type": "display_data"
    },
    {
     "data": {
      "application/vnd.jupyter.widget-view+json": {
       "model_id": "",
       "version_major": 2,
       "version_minor": 0
      },
      "text/plain": [
       "HBox(children=(IntProgress(value=0, max=31), HTML(value='')))"
      ]
     },
     "metadata": {},
     "output_type": "display_data"
    },
    {
     "data": {
      "application/vnd.jupyter.widget-view+json": {
       "model_id": "",
       "version_major": 2,
       "version_minor": 0
      },
      "text/plain": [
       "HBox(children=(IntProgress(value=0, max=31), HTML(value='')))"
      ]
     },
     "metadata": {},
     "output_type": "display_data"
    },
    {
     "data": {
      "application/vnd.jupyter.widget-view+json": {
       "model_id": "",
       "version_major": 2,
       "version_minor": 0
      },
      "text/plain": [
       "HBox(children=(IntProgress(value=0, max=31), HTML(value='')))"
      ]
     },
     "metadata": {},
     "output_type": "display_data"
    }
   ],
   "source": [
    "flows = []\n",
    "for c in tqdm_notebook(criteria):\n",
    "    flow_df = generate_subflow_fn(from_date, to_date, criteria[c])\n",
    "    flow_df.to_csv(os.path.join('data', 'INE_subflows','flow_{}.csv'.format(c)))\n",
    "    flows.append(flow_df)"
   ]
  },
  {
   "cell_type": "code",
   "execution_count": 47,
   "metadata": {},
   "outputs": [
    {
     "name": "stdout",
     "output_type": "stream",
     "text": [
      "That's all folks\n"
     ]
    }
   ],
   "source": [
    "print(\"That's all folks\")"
   ]
  }
 ],
 "metadata": {
  "kernelspec": {
   "display_name": "Python 3",
   "language": "python",
   "name": "python3"
  },
  "language_info": {
   "codemirror_mode": {
    "name": "ipython",
    "version": 3
   },
   "file_extension": ".py",
   "mimetype": "text/x-python",
   "name": "python",
   "nbconvert_exporter": "python",
   "pygments_lexer": "ipython3",
   "version": "3.6.5"
  }
 },
 "nbformat": 4,
 "nbformat_minor": 2
}
