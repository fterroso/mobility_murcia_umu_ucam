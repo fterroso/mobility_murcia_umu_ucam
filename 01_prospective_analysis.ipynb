{
 "cells": [
  {
   "cell_type": "markdown",
   "metadata": {},
   "source": [
    "# Prospective analysis of INE mobility dataset for public parking services"
   ]
  },
  {
   "cell_type": "code",
   "execution_count": 64,
   "metadata": {},
   "outputs": [],
   "source": [
    "import pandas as pd\n",
    "import numpy as np\n",
    "\n",
    "import os\n",
    "import datetime\n",
    "from datetime import date, timedelta\n",
    "from tqdm import tqdm_notebook\n",
    "\n",
    "import matplotlib.pyplot as plt\n",
    "%matplotlib inline\n",
    "\n",
    "data_path = os.path.join('/','home','fterroso','data','Spain-INE-mobility-study-2020','muestra1')"
   ]
  },
  {
   "cell_type": "code",
   "execution_count": 26,
   "metadata": {},
   "outputs": [],
   "source": [
    "target_regions_ids= ['3003001','3003002','3003003']"
   ]
  },
  {
   "cell_type": "code",
   "execution_count": 27,
   "metadata": {},
   "outputs": [],
   "source": [
    "e_date = datetime.datetime.strptime('2020-10-15', '%Y-%m-%d')\n",
    "i_date = datetime.datetime.strptime('2020-09-01', '%Y-%m-%d')"
   ]
  },
  {
   "cell_type": "code",
   "execution_count": 28,
   "metadata": {},
   "outputs": [],
   "source": [
    "def generate_days_fn(init_date, final_date):\n",
    "    \n",
    "    delta = final_date - init_date       # as timedelta\n",
    "\n",
    "    target_days = []\n",
    "    for i in range(delta.days + 1):\n",
    "        day = init_date + timedelta(days=i)\n",
    "        target_days.append(day)\n",
    "    \n",
    "    return target_days"
   ]
  },
  {
   "cell_type": "code",
   "execution_count": 29,
   "metadata": {},
   "outputs": [],
   "source": [
    "def read_INE_trips_date_fn(date_, trips_type='all', flow_type= 'all'):\n",
    "    date_str= date_.strftime('%Y%m%d')\n",
    "    df_date= pd.read_csv(os.path.join(data_path, f'{date_str}_maestra_1_mitma_distrito.txt'), \n",
    "                             sep='|',dtype={'origen':str, 'destino':str,'fecha':str, 'periodo':str})\n",
    "    \n",
    "    if flow_type== 'incoming':\n",
    "        df_date = df_date[df_date['destino'].isin(target_regions_ids)]\n",
    "    elif flow_type == 'outgoing':\n",
    "        df_date = df_date[df_date['origen'].isin(target_regions_ids)]\n",
    "    elif flow_type== 'all':\n",
    "        df_date = df_date[(df_date['destino'].isin(target_regions_ids)) |\n",
    "                          (df_date['origen'].isin(target_regions_ids))]\n",
    "    \n",
    "    if trips_type=='inter':\n",
    "        df_date= df_date[df_date['origen']!=df_date['destino']] #only keep trips between areas\n",
    "    elif trips_type=='intra':\n",
    "        df_date= df_date[df_date['origen']==df_date['destino']] #only keep trips within the areas\n",
    "    \n",
    "    \n",
    "    \n",
    "    #convert period column to a two-digit string\n",
    "    df_date['periodo'] = df_date['periodo'].apply(lambda x: x.zfill(2))\n",
    "    df_date= df_date.fillna(0) # set nan as 0\n",
    "    return df_date"
   ]
  },
  {
   "cell_type": "markdown",
   "metadata": {},
   "source": [
    "## Incoming & outgoing inter-area trips"
   ]
  },
  {
   "cell_type": "code",
   "execution_count": 30,
   "metadata": {
    "scrolled": true
   },
   "outputs": [
    {
     "data": {
      "application/vnd.jupyter.widget-view+json": {
       "model_id": "5feeb56dba9144278e5584e5cb80d9c6",
       "version_major": 2,
       "version_minor": 0
      },
      "text/plain": [
       "HBox(children=(IntProgress(value=0, max=45), HTML(value='')))"
      ]
     },
     "metadata": {},
     "output_type": "display_data"
    }
   ],
   "source": [
    "in_dfs = []\n",
    "out_dfs = []\n",
    "target_days = generate_days_fn(i_date, e_date)\n",
    "for date in tqdm_notebook(target_days):\n",
    "    in_df = read_INE_trips_date_fn(date, 'inter', 'incoming')\n",
    "    in_dfs.append(in_df)\n",
    "    \n",
    "    out_df = read_INE_trips_date_fn(date, 'inter', 'outgoing')\n",
    "    out_dfs.append(out_df)\n",
    "    \n",
    "inter_in_trips = pd.concat(in_dfs,axis=0)\n",
    "inter_out_trips = pd.concat(out_dfs,axis=0)"
   ]
  },
  {
   "cell_type": "code",
   "execution_count": 31,
   "metadata": {},
   "outputs": [
    {
     "data": {
      "text/html": [
       "<div>\n",
       "<style scoped>\n",
       "    .dataframe tbody tr th:only-of-type {\n",
       "        vertical-align: middle;\n",
       "    }\n",
       "\n",
       "    .dataframe tbody tr th {\n",
       "        vertical-align: top;\n",
       "    }\n",
       "\n",
       "    .dataframe thead th {\n",
       "        text-align: right;\n",
       "    }\n",
       "</style>\n",
       "<table border=\"1\" class=\"dataframe\">\n",
       "  <thead>\n",
       "    <tr style=\"text-align: right;\">\n",
       "      <th></th>\n",
       "      <th>fecha</th>\n",
       "      <th>origen</th>\n",
       "      <th>destino</th>\n",
       "      <th>actividad_origen</th>\n",
       "      <th>actividad_destino</th>\n",
       "      <th>residencia</th>\n",
       "      <th>edad</th>\n",
       "      <th>periodo</th>\n",
       "      <th>distancia</th>\n",
       "      <th>viajes</th>\n",
       "      <th>viajes_km</th>\n",
       "    </tr>\n",
       "  </thead>\n",
       "  <tbody>\n",
       "    <tr>\n",
       "      <th>29137</th>\n",
       "      <td>20200901</td>\n",
       "      <td>0200301</td>\n",
       "      <td>3003001</td>\n",
       "      <td>otros</td>\n",
       "      <td>casa</td>\n",
       "      <td>30</td>\n",
       "      <td>0.0</td>\n",
       "      <td>18</td>\n",
       "      <td>100+</td>\n",
       "      <td>9.788</td>\n",
       "      <td>1261.216</td>\n",
       "    </tr>\n",
       "    <tr>\n",
       "      <th>29138</th>\n",
       "      <td>20200901</td>\n",
       "      <td>0200301</td>\n",
       "      <td>3003001</td>\n",
       "      <td>otros</td>\n",
       "      <td>otros</td>\n",
       "      <td>30</td>\n",
       "      <td>0.0</td>\n",
       "      <td>09</td>\n",
       "      <td>100+</td>\n",
       "      <td>9.788</td>\n",
       "      <td>1242.528</td>\n",
       "    </tr>\n",
       "    <tr>\n",
       "      <th>29139</th>\n",
       "      <td>20200901</td>\n",
       "      <td>0200301</td>\n",
       "      <td>3003001</td>\n",
       "      <td>otros</td>\n",
       "      <td>otros</td>\n",
       "      <td>30</td>\n",
       "      <td>0.0</td>\n",
       "      <td>10</td>\n",
       "      <td>100+</td>\n",
       "      <td>7.054</td>\n",
       "      <td>912.790</td>\n",
       "    </tr>\n",
       "    <tr>\n",
       "      <th>29140</th>\n",
       "      <td>20200901</td>\n",
       "      <td>0200301</td>\n",
       "      <td>3003002</td>\n",
       "      <td>otros</td>\n",
       "      <td>casa</td>\n",
       "      <td>30</td>\n",
       "      <td>0.0</td>\n",
       "      <td>19</td>\n",
       "      <td>100+</td>\n",
       "      <td>7.675</td>\n",
       "      <td>984.381</td>\n",
       "    </tr>\n",
       "    <tr>\n",
       "      <th>29141</th>\n",
       "      <td>20200901</td>\n",
       "      <td>0200301</td>\n",
       "      <td>3003002</td>\n",
       "      <td>otros</td>\n",
       "      <td>otros</td>\n",
       "      <td>30</td>\n",
       "      <td>0.0</td>\n",
       "      <td>12</td>\n",
       "      <td>100+</td>\n",
       "      <td>7.054</td>\n",
       "      <td>908.965</td>\n",
       "    </tr>\n",
       "  </tbody>\n",
       "</table>\n",
       "</div>"
      ],
      "text/plain": [
       "          fecha   origen  destino actividad_origen actividad_destino  \\\n",
       "29137  20200901  0200301  3003001            otros              casa   \n",
       "29138  20200901  0200301  3003001            otros             otros   \n",
       "29139  20200901  0200301  3003001            otros             otros   \n",
       "29140  20200901  0200301  3003002            otros              casa   \n",
       "29141  20200901  0200301  3003002            otros             otros   \n",
       "\n",
       "       residencia  edad periodo distancia  viajes  viajes_km  \n",
       "29137          30   0.0      18      100+   9.788   1261.216  \n",
       "29138          30   0.0      09      100+   9.788   1242.528  \n",
       "29139          30   0.0      10      100+   7.054    912.790  \n",
       "29140          30   0.0      19      100+   7.675    984.381  \n",
       "29141          30   0.0      12      100+   7.054    908.965  "
      ]
     },
     "execution_count": 31,
     "metadata": {},
     "output_type": "execute_result"
    }
   ],
   "source": [
    "inter_in_trips.head()"
   ]
  },
  {
   "cell_type": "code",
   "execution_count": 32,
   "metadata": {},
   "outputs": [
    {
     "name": "stdout",
     "output_type": "stream",
     "text": [
      "<class 'pandas.core.frame.DataFrame'>\n",
      "Int64Index: 458212 entries, 29137 to 5343910\n",
      "Data columns (total 11 columns):\n",
      " #   Column             Non-Null Count   Dtype  \n",
      "---  ------             --------------   -----  \n",
      " 0   fecha              458212 non-null  object \n",
      " 1   origen             458212 non-null  object \n",
      " 2   destino            458212 non-null  object \n",
      " 3   actividad_origen   458212 non-null  object \n",
      " 4   actividad_destino  458212 non-null  object \n",
      " 5   residencia         458212 non-null  int64  \n",
      " 6   edad               458212 non-null  float64\n",
      " 7   periodo            458212 non-null  object \n",
      " 8   distancia          458212 non-null  object \n",
      " 9   viajes             458212 non-null  float64\n",
      " 10  viajes_km          458212 non-null  float64\n",
      "dtypes: float64(3), int64(1), object(7)\n",
      "memory usage: 42.0+ MB\n"
     ]
    }
   ],
   "source": [
    "inter_in_trips.info()"
   ]
  },
  {
   "cell_type": "code",
   "execution_count": 33,
   "metadata": {},
   "outputs": [
    {
     "data": {
      "text/html": [
       "<div>\n",
       "<style scoped>\n",
       "    .dataframe tbody tr th:only-of-type {\n",
       "        vertical-align: middle;\n",
       "    }\n",
       "\n",
       "    .dataframe tbody tr th {\n",
       "        vertical-align: top;\n",
       "    }\n",
       "\n",
       "    .dataframe thead th {\n",
       "        text-align: right;\n",
       "    }\n",
       "</style>\n",
       "<table border=\"1\" class=\"dataframe\">\n",
       "  <thead>\n",
       "    <tr style=\"text-align: right;\">\n",
       "      <th></th>\n",
       "      <th>fecha</th>\n",
       "      <th>origen</th>\n",
       "      <th>destino</th>\n",
       "      <th>actividad_origen</th>\n",
       "      <th>actividad_destino</th>\n",
       "      <th>residencia</th>\n",
       "      <th>edad</th>\n",
       "      <th>periodo</th>\n",
       "      <th>distancia</th>\n",
       "      <th>viajes</th>\n",
       "      <th>viajes_km</th>\n",
       "    </tr>\n",
       "  </thead>\n",
       "  <tbody>\n",
       "    <tr>\n",
       "      <th>3496965</th>\n",
       "      <td>20200901</td>\n",
       "      <td>3003001</td>\n",
       "      <td>0200301</td>\n",
       "      <td>casa</td>\n",
       "      <td>otros</td>\n",
       "      <td>30</td>\n",
       "      <td>0.0</td>\n",
       "      <td>13</td>\n",
       "      <td>100+</td>\n",
       "      <td>9.788</td>\n",
       "      <td>1261.216</td>\n",
       "    </tr>\n",
       "    <tr>\n",
       "      <th>3496966</th>\n",
       "      <td>20200901</td>\n",
       "      <td>3003001</td>\n",
       "      <td>0200301</td>\n",
       "      <td>otros</td>\n",
       "      <td>otros</td>\n",
       "      <td>30</td>\n",
       "      <td>0.0</td>\n",
       "      <td>09</td>\n",
       "      <td>100+</td>\n",
       "      <td>7.565</td>\n",
       "      <td>966.574</td>\n",
       "    </tr>\n",
       "    <tr>\n",
       "      <th>3496967</th>\n",
       "      <td>20200901</td>\n",
       "      <td>3003001</td>\n",
       "      <td>0200302</td>\n",
       "      <td>otros</td>\n",
       "      <td>otros</td>\n",
       "      <td>30</td>\n",
       "      <td>0.0</td>\n",
       "      <td>09</td>\n",
       "      <td>100+</td>\n",
       "      <td>9.788</td>\n",
       "      <td>1270.597</td>\n",
       "    </tr>\n",
       "    <tr>\n",
       "      <th>3496968</th>\n",
       "      <td>20200901</td>\n",
       "      <td>3003001</td>\n",
       "      <td>0200308</td>\n",
       "      <td>otros</td>\n",
       "      <td>otros</td>\n",
       "      <td>30</td>\n",
       "      <td>0.0</td>\n",
       "      <td>19</td>\n",
       "      <td>100+</td>\n",
       "      <td>5.663</td>\n",
       "      <td>724.829</td>\n",
       "    </tr>\n",
       "    <tr>\n",
       "      <th>3496969</th>\n",
       "      <td>20200901</td>\n",
       "      <td>3003001</td>\n",
       "      <td>02030_AM</td>\n",
       "      <td>otros</td>\n",
       "      <td>casa</td>\n",
       "      <td>2</td>\n",
       "      <td>0.0</td>\n",
       "      <td>12</td>\n",
       "      <td>050-100</td>\n",
       "      <td>22.844</td>\n",
       "      <td>2122.222</td>\n",
       "    </tr>\n",
       "  </tbody>\n",
       "</table>\n",
       "</div>"
      ],
      "text/plain": [
       "            fecha   origen   destino actividad_origen actividad_destino  \\\n",
       "3496965  20200901  3003001   0200301             casa             otros   \n",
       "3496966  20200901  3003001   0200301            otros             otros   \n",
       "3496967  20200901  3003001   0200302            otros             otros   \n",
       "3496968  20200901  3003001   0200308            otros             otros   \n",
       "3496969  20200901  3003001  02030_AM            otros              casa   \n",
       "\n",
       "         residencia  edad periodo distancia  viajes  viajes_km  \n",
       "3496965          30   0.0      13      100+   9.788   1261.216  \n",
       "3496966          30   0.0      09      100+   7.565    966.574  \n",
       "3496967          30   0.0      09      100+   9.788   1270.597  \n",
       "3496968          30   0.0      19      100+   5.663    724.829  \n",
       "3496969           2   0.0      12   050-100  22.844   2122.222  "
      ]
     },
     "execution_count": 33,
     "metadata": {},
     "output_type": "execute_result"
    }
   ],
   "source": [
    "inter_out_trips.head()"
   ]
  },
  {
   "cell_type": "code",
   "execution_count": 34,
   "metadata": {},
   "outputs": [
    {
     "name": "stdout",
     "output_type": "stream",
     "text": [
      "<class 'pandas.core.frame.DataFrame'>\n",
      "Int64Index: 453815 entries, 3496965 to 3448956\n",
      "Data columns (total 11 columns):\n",
      " #   Column             Non-Null Count   Dtype  \n",
      "---  ------             --------------   -----  \n",
      " 0   fecha              453815 non-null  object \n",
      " 1   origen             453815 non-null  object \n",
      " 2   destino            453815 non-null  object \n",
      " 3   actividad_origen   453815 non-null  object \n",
      " 4   actividad_destino  453815 non-null  object \n",
      " 5   residencia         453815 non-null  int64  \n",
      " 6   edad               453815 non-null  float64\n",
      " 7   periodo            453815 non-null  object \n",
      " 8   distancia          453815 non-null  object \n",
      " 9   viajes             453815 non-null  float64\n",
      " 10  viajes_km          453815 non-null  float64\n",
      "dtypes: float64(3), int64(1), object(7)\n",
      "memory usage: 41.5+ MB\n"
     ]
    }
   ],
   "source": [
    "inter_out_trips.info()"
   ]
  },
  {
   "cell_type": "markdown",
   "metadata": {},
   "source": [
    "## Intra area trips"
   ]
  },
  {
   "cell_type": "code",
   "execution_count": 35,
   "metadata": {
    "scrolled": true
   },
   "outputs": [
    {
     "data": {
      "application/vnd.jupyter.widget-view+json": {
       "model_id": "506baf24153846a6b8907d5051111245",
       "version_major": 2,
       "version_minor": 0
      },
      "text/plain": [
       "HBox(children=(IntProgress(value=0, max=45), HTML(value='')))"
      ]
     },
     "metadata": {},
     "output_type": "display_data"
    }
   ],
   "source": [
    "dfs = []\n",
    "target_days = generate_days_fn(i_date, e_date)\n",
    "for date in tqdm_notebook(target_days):\n",
    "    df = read_INE_trips_date_fn(date, 'intra', 'all')\n",
    "    dfs.append(df)\n",
    "    \n",
    "intra_trips = pd.concat(dfs,axis=0)\n"
   ]
  },
  {
   "cell_type": "code",
   "execution_count": 36,
   "metadata": {},
   "outputs": [
    {
     "data": {
      "text/html": [
       "<div>\n",
       "<style scoped>\n",
       "    .dataframe tbody tr th:only-of-type {\n",
       "        vertical-align: middle;\n",
       "    }\n",
       "\n",
       "    .dataframe tbody tr th {\n",
       "        vertical-align: top;\n",
       "    }\n",
       "\n",
       "    .dataframe thead th {\n",
       "        text-align: right;\n",
       "    }\n",
       "</style>\n",
       "<table border=\"1\" class=\"dataframe\">\n",
       "  <thead>\n",
       "    <tr style=\"text-align: right;\">\n",
       "      <th></th>\n",
       "      <th>fecha</th>\n",
       "      <th>origen</th>\n",
       "      <th>destino</th>\n",
       "      <th>actividad_origen</th>\n",
       "      <th>actividad_destino</th>\n",
       "      <th>residencia</th>\n",
       "      <th>edad</th>\n",
       "      <th>periodo</th>\n",
       "      <th>distancia</th>\n",
       "      <th>viajes</th>\n",
       "      <th>viajes_km</th>\n",
       "    </tr>\n",
       "  </thead>\n",
       "  <tbody>\n",
       "    <tr>\n",
       "      <th>3498382</th>\n",
       "      <td>20200901</td>\n",
       "      <td>3003001</td>\n",
       "      <td>3003001</td>\n",
       "      <td>casa</td>\n",
       "      <td>otros</td>\n",
       "      <td>30</td>\n",
       "      <td>0.0</td>\n",
       "      <td>00</td>\n",
       "      <td>0005-002</td>\n",
       "      <td>277.95</td>\n",
       "      <td>256.904</td>\n",
       "    </tr>\n",
       "    <tr>\n",
       "      <th>3498383</th>\n",
       "      <td>20200901</td>\n",
       "      <td>3003001</td>\n",
       "      <td>3003001</td>\n",
       "      <td>casa</td>\n",
       "      <td>otros</td>\n",
       "      <td>30</td>\n",
       "      <td>0.0</td>\n",
       "      <td>00</td>\n",
       "      <td>002-005</td>\n",
       "      <td>16.35</td>\n",
       "      <td>38.883</td>\n",
       "    </tr>\n",
       "    <tr>\n",
       "      <th>3498384</th>\n",
       "      <td>20200901</td>\n",
       "      <td>3003001</td>\n",
       "      <td>3003001</td>\n",
       "      <td>casa</td>\n",
       "      <td>otros</td>\n",
       "      <td>30</td>\n",
       "      <td>0.0</td>\n",
       "      <td>01</td>\n",
       "      <td>0005-002</td>\n",
       "      <td>245.25</td>\n",
       "      <td>262.989</td>\n",
       "    </tr>\n",
       "    <tr>\n",
       "      <th>3498385</th>\n",
       "      <td>20200901</td>\n",
       "      <td>3003001</td>\n",
       "      <td>3003001</td>\n",
       "      <td>casa</td>\n",
       "      <td>otros</td>\n",
       "      <td>30</td>\n",
       "      <td>0.0</td>\n",
       "      <td>02</td>\n",
       "      <td>0005-002</td>\n",
       "      <td>130.80</td>\n",
       "      <td>126.229</td>\n",
       "    </tr>\n",
       "    <tr>\n",
       "      <th>3498386</th>\n",
       "      <td>20200901</td>\n",
       "      <td>3003001</td>\n",
       "      <td>3003001</td>\n",
       "      <td>casa</td>\n",
       "      <td>otros</td>\n",
       "      <td>30</td>\n",
       "      <td>0.0</td>\n",
       "      <td>02</td>\n",
       "      <td>002-005</td>\n",
       "      <td>16.35</td>\n",
       "      <td>47.837</td>\n",
       "    </tr>\n",
       "  </tbody>\n",
       "</table>\n",
       "</div>"
      ],
      "text/plain": [
       "            fecha   origen  destino actividad_origen actividad_destino  \\\n",
       "3498382  20200901  3003001  3003001             casa             otros   \n",
       "3498383  20200901  3003001  3003001             casa             otros   \n",
       "3498384  20200901  3003001  3003001             casa             otros   \n",
       "3498385  20200901  3003001  3003001             casa             otros   \n",
       "3498386  20200901  3003001  3003001             casa             otros   \n",
       "\n",
       "         residencia  edad periodo distancia  viajes  viajes_km  \n",
       "3498382          30   0.0      00  0005-002  277.95    256.904  \n",
       "3498383          30   0.0      00   002-005   16.35     38.883  \n",
       "3498384          30   0.0      01  0005-002  245.25    262.989  \n",
       "3498385          30   0.0      02  0005-002  130.80    126.229  \n",
       "3498386          30   0.0      02   002-005   16.35     47.837  "
      ]
     },
     "execution_count": 36,
     "metadata": {},
     "output_type": "execute_result"
    }
   ],
   "source": [
    "intra_trips.head()"
   ]
  },
  {
   "cell_type": "code",
   "execution_count": 37,
   "metadata": {},
   "outputs": [
    {
     "name": "stdout",
     "output_type": "stream",
     "text": [
      "<class 'pandas.core.frame.DataFrame'>\n",
      "Int64Index: 37105 entries, 3498382 to 3447343\n",
      "Data columns (total 11 columns):\n",
      " #   Column             Non-Null Count  Dtype  \n",
      "---  ------             --------------  -----  \n",
      " 0   fecha              37105 non-null  object \n",
      " 1   origen             37105 non-null  object \n",
      " 2   destino            37105 non-null  object \n",
      " 3   actividad_origen   37105 non-null  object \n",
      " 4   actividad_destino  37105 non-null  object \n",
      " 5   residencia         37105 non-null  int64  \n",
      " 6   edad               37105 non-null  float64\n",
      " 7   periodo            37105 non-null  object \n",
      " 8   distancia          37105 non-null  object \n",
      " 9   viajes             37105 non-null  float64\n",
      " 10  viajes_km          37105 non-null  float64\n",
      "dtypes: float64(3), int64(1), object(7)\n",
      "memory usage: 3.4+ MB\n"
     ]
    }
   ],
   "source": [
    "intra_trips.info()"
   ]
  },
  {
   "cell_type": "markdown",
   "metadata": {},
   "source": [
    "# Number of trips per date"
   ]
  },
  {
   "cell_type": "code",
   "execution_count": 48,
   "metadata": {},
   "outputs": [],
   "source": [
    "inter_in_per_date = inter_in_trips.groupby('fecha').size()\n",
    "inter_out_per_date = inter_out_trips.groupby('fecha').size()\n",
    "intra_per_date = intra_trips.groupby('fecha').size()"
   ]
  },
  {
   "cell_type": "code",
   "execution_count": 69,
   "metadata": {},
   "outputs": [
    {
     "data": {
      "text/plain": [
       "Index(['20200901', '20200902', '20200903', '20200904', '20200905', '20200906',\n",
       "       '20200907', '20200908', '20200909', '20200910', '20200911', '20200912',\n",
       "       '20200913', '20200914', '20200915', '20200916', '20200917', '20200918',\n",
       "       '20200919', '20200920', '20200921', '20200922', '20200923', '20200924',\n",
       "       '20200925', '20200926', '20200927', '20200928', '20200929', '20200930',\n",
       "       '20201001', '20201002', '20201003', '20201004', '20201005', '20201006',\n",
       "       '20201007', '20201008', '20201009', '20201010', '20201011', '20201012',\n",
       "       '20201013', '20201014', '20201015'],\n",
       "      dtype='object', name='fecha')"
      ]
     },
     "execution_count": 69,
     "metadata": {},
     "output_type": "execute_result"
    }
   ],
   "source": [
    "inter_in_per_date.index"
   ]
  },
  {
   "cell_type": "code",
   "execution_count": 75,
   "metadata": {},
   "outputs": [
    {
     "data": {
      "text/plain": [
       "(45,)"
      ]
     },
     "execution_count": 75,
     "metadata": {},
     "output_type": "execute_result"
    }
   ],
   "source": [
    "inter_in_per_date.shape"
   ]
  },
  {
   "cell_type": "code",
   "execution_count": 89,
   "metadata": {},
   "outputs": [
    {
     "data": {
      "image/png": "[encoded data removed]",
      "text/plain": [
       "<Figure size 1440x720 with 1 Axes>"
      ]
     },
     "metadata": {
      "needs_background": "light"
     },
     "output_type": "display_data"
    }
   ],
   "source": [
    "ax= inter_in_per_date.plot(figsize=(20,10), label='inter in', logy=True)\n",
    "inter_out_per_date.plot(ax=ax, label='inter out')\n",
    "intra_per_date.plot(ax=ax, label='intra',grid=True)\n",
    "ax.legend(loc='center left');\n",
    "plt.xticks(range(inter_in_per_date.shape[0]), inter_in_per_date.index.values, rotation='90');\n"
   ]
  }
 ],
 "metadata": {
  "kernelspec": {
   "display_name": "Python 3",
   "language": "python",
   "name": "python3"
  },
  "language_info": {
   "codemirror_mode": {
    "name": "ipython",
    "version": 3
   },
   "file_extension": ".py",
   "mimetype": "text/x-python",
   "name": "python",
   "nbconvert_exporter": "python",
   "pygments_lexer": "ipython3",
   "version": "3.9.1+"
  }
 },
 "nbformat": 4,
 "nbformat_minor": 2
}
