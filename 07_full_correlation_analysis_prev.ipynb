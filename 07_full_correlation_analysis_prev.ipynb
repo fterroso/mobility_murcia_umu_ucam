{
 "cells": [
  {
   "cell_type": "code",
   "execution_count": 5,
   "id": "joined-commons",
   "metadata": {},
   "outputs": [
    {
     "ename": "SyntaxError",
     "evalue": "invalid syntax (<ipython-input-5-a32c0dc43121>, line 3)",
     "output_type": "error",
     "traceback": [
      "\u001b[0;36m  File \u001b[0;32m\"<ipython-input-5-a32c0dc43121>\"\u001b[0;36m, line \u001b[0;32m3\u001b[0m\n\u001b[0;31m    from statsmodels.graphicsimport plot_pacf\u001b[0m\n\u001b[0m                                    ^\u001b[0m\n\u001b[0;31mSyntaxError\u001b[0m\u001b[0;31m:\u001b[0m invalid syntax\n"
     ]
    }
   ],
   "source": [
    "from pandas import read_csv\n",
    "from matplotlib import pyplot\n",
    "from statsmodels.graphics.tsaplots import plot_pacf\n",
    "import pandas as pd\n",
    "import os\n",
    "import matplotlib.pyplot as plt\n",
    "import numpy as np"
   ]
  },
  {
   "cell_type": "code",
   "execution_count": 2,
   "id": "spanish-sessions",
   "metadata": {},
   "outputs": [],
   "source": [
    "zone1_j_df = pd.read_csv(os.path.join('data', 'parkings_JULIO', 'zone1.csv'), sep=';', parse_dates=['recvTime'], index_col='recvTime')\n",
    "zone1_so_df = pd.read_csv(os.path.join('data', 'parkings_SEPT_OCT', 'zone1.csv'), sep=';', parse_dates=['recvTime'], index_col='recvTime')\n",
    "zone1_df= pd.concat([zone1_j_df,zone1_so_df], axis=0)"
   ]
  },
  {
   "cell_type": "code",
   "execution_count": 3,
   "id": "narrow-support",
   "metadata": {},
   "outputs": [
    {
     "data": {
      "text/html": [
       "<div>\n",
       "<style scoped>\n",
       "    .dataframe tbody tr th:only-of-type {\n",
       "        vertical-align: middle;\n",
       "    }\n",
       "\n",
       "    .dataframe tbody tr th {\n",
       "        vertical-align: top;\n",
       "    }\n",
       "\n",
       "    .dataframe thead th {\n",
       "        text-align: right;\n",
       "    }\n",
       "</style>\n",
       "<table border=\"1\" class=\"dataframe\">\n",
       "  <thead>\n",
       "    <tr style=\"text-align: right;\">\n",
       "      <th></th>\n",
       "      <th>free</th>\n",
       "    </tr>\n",
       "    <tr>\n",
       "      <th>recvTime</th>\n",
       "      <th></th>\n",
       "    </tr>\n",
       "  </thead>\n",
       "  <tbody>\n",
       "    <tr>\n",
       "      <th>2020-07-13 10:00:00</th>\n",
       "      <td>167.363636</td>\n",
       "    </tr>\n",
       "    <tr>\n",
       "      <th>2020-07-13 11:00:00</th>\n",
       "      <td>246.157895</td>\n",
       "    </tr>\n",
       "    <tr>\n",
       "      <th>2020-07-13 12:00:00</th>\n",
       "      <td>351.465909</td>\n",
       "    </tr>\n",
       "    <tr>\n",
       "      <th>2020-07-13 13:00:00</th>\n",
       "      <td>404.080000</td>\n",
       "    </tr>\n",
       "    <tr>\n",
       "      <th>2020-07-13 14:00:00</th>\n",
       "      <td>362.413238</td>\n",
       "    </tr>\n",
       "    <tr>\n",
       "      <th>...</th>\n",
       "      <td>...</td>\n",
       "    </tr>\n",
       "    <tr>\n",
       "      <th>2020-10-19 04:00:00</th>\n",
       "      <td>581.257895</td>\n",
       "    </tr>\n",
       "    <tr>\n",
       "      <th>2020-10-19 05:00:00</th>\n",
       "      <td>563.448780</td>\n",
       "    </tr>\n",
       "    <tr>\n",
       "      <th>2020-10-19 06:00:00</th>\n",
       "      <td>485.062771</td>\n",
       "    </tr>\n",
       "    <tr>\n",
       "      <th>2020-10-19 07:00:00</th>\n",
       "      <td>360.710256</td>\n",
       "    </tr>\n",
       "    <tr>\n",
       "      <th>2020-10-19 08:00:00</th>\n",
       "      <td>257.000000</td>\n",
       "    </tr>\n",
       "  </tbody>\n",
       "</table>\n",
       "<p>926 rows × 1 columns</p>\n",
       "</div>"
      ],
      "text/plain": [
       "                           free\n",
       "recvTime                       \n",
       "2020-07-13 10:00:00  167.363636\n",
       "2020-07-13 11:00:00  246.157895\n",
       "2020-07-13 12:00:00  351.465909\n",
       "2020-07-13 13:00:00  404.080000\n",
       "2020-07-13 14:00:00  362.413238\n",
       "...                         ...\n",
       "2020-10-19 04:00:00  581.257895\n",
       "2020-10-19 05:00:00  563.448780\n",
       "2020-10-19 06:00:00  485.062771\n",
       "2020-10-19 07:00:00  360.710256\n",
       "2020-10-19 08:00:00  257.000000\n",
       "\n",
       "[926 rows x 1 columns]"
      ]
     },
     "execution_count": 3,
     "metadata": {},
     "output_type": "execute_result"
    }
   ],
   "source": [
    "zone1_df"
   ]
  },
  {
   "cell_type": "code",
   "execution_count": 4,
   "id": "concrete-causing",
   "metadata": {},
   "outputs": [
    {
     "ename": "NameError",
     "evalue": "name 'plot_acf' is not defined",
     "output_type": "error",
     "traceback": [
      "\u001b[0;31m---------------------------------------------------------------------------\u001b[0m",
      "\u001b[0;31mNameError\u001b[0m                                 Traceback (most recent call last)",
      "\u001b[0;32m<ipython-input-4-514c5840da42>\u001b[0m in \u001b[0;36m<module>\u001b[0;34m\u001b[0m\n\u001b[0;32m----> 1\u001b[0;31m \u001b[0mplot_acf\u001b[0m\u001b[0;34m(\u001b[0m\u001b[0mzone1_df\u001b[0m\u001b[0;34m[\u001b[0m\u001b[0;34m'free'\u001b[0m\u001b[0;34m]\u001b[0m\u001b[0;34m)\u001b[0m\u001b[0;34m\u001b[0m\u001b[0;34m\u001b[0m\u001b[0m\n\u001b[0m\u001b[1;32m      2\u001b[0m \u001b[0mpyplot\u001b[0m\u001b[0;34m.\u001b[0m\u001b[0mshow\u001b[0m\u001b[0;34m(\u001b[0m\u001b[0;34m)\u001b[0m\u001b[0;34m\u001b[0m\u001b[0;34m\u001b[0m\u001b[0m\n",
      "\u001b[0;31mNameError\u001b[0m: name 'plot_acf' is not defined"
     ]
    }
   ],
   "source": [
    "plot_acf(zone1_df['free'])\n",
    "pyplot.show()"
   ]
  },
  {
   "cell_type": "code",
   "execution_count": 18,
   "id": "blessed-playback",
   "metadata": {},
   "outputs": [
    {
     "data": {
      "image/png": "[encoded data removed]",
      "text/plain": [
       "<Figure size 432x288 with 1 Axes>"
      ]
     },
     "metadata": {
      "needs_background": "light"
     },
     "output_type": "display_data"
    }
   ],
   "source": [
    "def acorr(x, ax=None):\n",
    "    if ax is None:\n",
    "        ax = plt.gca()\n",
    "\n",
    "    x = x - x.mean()\n",
    "\n",
    "    autocorr = np.correlate(x, x, mode='full')\n",
    "    autocorr = autocorr[x.size:]\n",
    "    autocorr /= autocorr.max()\n",
    "\n",
    "    return ax.stem(autocorr)\n",
    "\n",
    "fig, ax = plt.subplots()\n",
    "acorr(zone1_df['free'][1:100])\n",
    "plt.show()"
   ]
  }
 ],
 "metadata": {
  "kernelspec": {
   "display_name": "Python 3",
   "language": "python",
   "name": "python3"
  },
  "language_info": {
   "codemirror_mode": {
    "name": "ipython",
    "version": 3
   },
   "file_extension": ".py",
   "mimetype": "text/x-python",
   "name": "python",
   "nbconvert_exporter": "python",
   "pygments_lexer": "ipython3",
   "version": "3.9.1+"
  }
 },
 "nbformat": 4,
 "nbformat_minor": 5
}
