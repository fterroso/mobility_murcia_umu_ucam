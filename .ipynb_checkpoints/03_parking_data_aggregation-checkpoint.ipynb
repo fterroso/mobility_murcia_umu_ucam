{
 "cells": [
  {
   "cell_type": "markdown",
   "metadata": {},
   "source": [
    "# Parking Data aggregation"
   ]
  },
  {
   "cell_type": "markdown",
   "metadata": {},
   "source": [
    "## Prueba para 1 dataset (proceso descriptivo)"
   ]
  },
  {
   "cell_type": "code",
   "execution_count": 8,
   "metadata": {},
   "outputs": [
    {
     "name": "stdout",
     "output_type": "stream",
     "text": [
      "2020-07-13 10:47:37\n"
     ]
    }
   ],
   "source": [
    "import pandas as pd\n",
    "from datetime import datetime"
   ]
  },
  {
   "cell_type": "code",
   "execution_count": 18,
   "metadata": {},
   "outputs": [
    {
     "name": "stdout",
     "output_type": "stream",
     "text": [
      "         _id  recvTimeTs             recvTime          entityId  attrValue\n",
      "0     222747  1594637257  2020-07-13T10:47:37  Aparcamiento:101         46\n",
      "1     222748  1594637498  2020-07-13T10:51:38  Aparcamiento:101         51\n",
      "2     222749  1594637618  2020-07-13T10:53:38  Aparcamiento:101         52\n",
      "3     222750  1594637738  2020-07-13T10:55:38  Aparcamiento:101         49\n",
      "4     222751  1594637858  2020-07-13T10:57:38  Aparcamiento:101         55\n",
      "...      ...         ...                  ...               ...        ...\n",
      "7038  229785  1596235592  2020-07-31T22:46:32  Aparcamiento:101        316\n",
      "7039  229786  1596235953  2020-07-31T22:52:33  Aparcamiento:101        317\n",
      "7040  229787  1596236673  2020-07-31T23:04:33  Aparcamiento:101        316\n",
      "7041  229788  1596236793  2020-07-31T23:06:33  Aparcamiento:101        319\n",
      "7042  229789  1596239553  2020-07-31T23:52:33  Aparcamiento:101        320\n",
      "\n",
      "[7043 rows x 5 columns]\n",
      "         _id  recvTimeTs             recvTime          entityId  attrValue  \\\n",
      "0     326129  1594637140  2020-07-13T10:45:40  Aparcamiento:102        115   \n",
      "1     326130  1594637199  2020-07-13T10:46:39  Aparcamiento:102        116   \n",
      "2     326131  1594637257  2020-07-13T10:47:37  Aparcamiento:102        117   \n",
      "3     326132  1594637377  2020-07-13T10:49:37  Aparcamiento:102        118   \n",
      "4     326133  1594637438  2020-07-13T10:50:38  Aparcamiento:102        116   \n",
      "...      ...         ...                  ...               ...        ...   \n",
      "9839  335968  1596228513  2020-07-31T20:48:33  Aparcamiento:102        270   \n",
      "9840  335969  1596230493  2020-07-31T21:21:33  Aparcamiento:102        271   \n",
      "9841  335970  1596234273  2020-07-31T22:24:33  Aparcamiento:102        272   \n",
      "9842  335971  1596235773  2020-07-31T22:49:33  Aparcamiento:102        273   \n",
      "9843  335972  1596237333  2020-07-31T23:15:33  Aparcamiento:102        274   \n",
      "\n",
      "      attrMd  \n",
      "0        NaN  \n",
      "1        NaN  \n",
      "2        NaN  \n",
      "3        NaN  \n",
      "4        NaN  \n",
      "...      ...  \n",
      "9839     NaN  \n",
      "9840     NaN  \n",
      "9841     NaN  \n",
      "9842     NaN  \n",
      "9843     NaN  \n",
      "\n",
      "[9844 rows x 6 columns]\n"
     ]
    }
   ],
   "source": [
    "# leemos el dataset para ver su formato\n",
    "df = pd.read_csv('./data/parkings_JULIO/101Libertad.csv', sep=\";\")\n",
    "print(df)\n",
    "\n"
   ]
  },
  {
   "cell_type": "code",
   "execution_count": 9,
   "metadata": {},
   "outputs": [
    {
     "name": "stdout",
     "output_type": "stream",
     "text": [
      "2020-07-13 10:47:37\n"
     ]
    }
   ],
   "source": [
    "# transformamos una de sus fechas de string a fecha\n",
    "datetime_str = '2020-07-13T10:47:37'\n",
    "datetime_object = datetime.strptime(datetime_str, '%Y-%m-%dT%H:%M:%S')\n",
    "print(datetime_object)"
   ]
  },
  {
   "cell_type": "code",
   "execution_count": 19,
   "metadata": {},
   "outputs": [
    {
     "name": "stdout",
     "output_type": "stream",
     "text": [
      "         _id  recvTimeTs            recvTime          entityId  attrValue\n",
      "0     222747  1594637257 2020-07-13 10:47:37  Aparcamiento:101         46\n",
      "1     222748  1594637498 2020-07-13 10:51:38  Aparcamiento:101         51\n",
      "2     222749  1594637618 2020-07-13 10:53:38  Aparcamiento:101         52\n",
      "3     222750  1594637738 2020-07-13 10:55:38  Aparcamiento:101         49\n",
      "4     222751  1594637858 2020-07-13 10:57:38  Aparcamiento:101         55\n",
      "...      ...         ...                 ...               ...        ...\n",
      "7038  229785  1596235592 2020-07-31 22:46:32  Aparcamiento:101        316\n",
      "7039  229786  1596235953 2020-07-31 22:52:33  Aparcamiento:101        317\n",
      "7040  229787  1596236673 2020-07-31 23:04:33  Aparcamiento:101        316\n",
      "7041  229788  1596236793 2020-07-31 23:06:33  Aparcamiento:101        319\n",
      "7042  229789  1596239553 2020-07-31 23:52:33  Aparcamiento:101        320\n",
      "\n",
      "[7043 rows x 5 columns]\n",
      "         _id  recvTimeTs            recvTime          entityId  attrValue  \\\n",
      "0     326129  1594637140 2020-07-13 10:45:40  Aparcamiento:102        115   \n",
      "1     326130  1594637199 2020-07-13 10:46:39  Aparcamiento:102        116   \n",
      "2     326131  1594637257 2020-07-13 10:47:37  Aparcamiento:102        117   \n",
      "3     326132  1594637377 2020-07-13 10:49:37  Aparcamiento:102        118   \n",
      "4     326133  1594637438 2020-07-13 10:50:38  Aparcamiento:102        116   \n",
      "...      ...         ...                 ...               ...        ...   \n",
      "9839  335968  1596228513 2020-07-31 20:48:33  Aparcamiento:102        270   \n",
      "9840  335969  1596230493 2020-07-31 21:21:33  Aparcamiento:102        271   \n",
      "9841  335970  1596234273 2020-07-31 22:24:33  Aparcamiento:102        272   \n",
      "9842  335971  1596235773 2020-07-31 22:49:33  Aparcamiento:102        273   \n",
      "9843  335972  1596237333 2020-07-31 23:15:33  Aparcamiento:102        274   \n",
      "\n",
      "      attrMd  \n",
      "0        NaN  \n",
      "1        NaN  \n",
      "2        NaN  \n",
      "3        NaN  \n",
      "4        NaN  \n",
      "...      ...  \n",
      "9839     NaN  \n",
      "9840     NaN  \n",
      "9841     NaN  \n",
      "9842     NaN  \n",
      "9843     NaN  \n",
      "\n",
      "[9844 rows x 6 columns]\n"
     ]
    }
   ],
   "source": [
    "# creamos un parser para leer bien las fechas\n",
    "def parser(x):\n",
    "    return datetime.strptime(x, '%Y-%m-%dT%H:%M:%S')\n",
    "\n",
    "df = pd.read_csv('./data/parkings_JULIO/101Libertad.csv', sep=\";\", parse_dates=[2], date_parser=parser)\n",
    "print(df)\n"
   ]
  },
  {
   "cell_type": "code",
   "execution_count": 12,
   "metadata": {},
   "outputs": [
    {
     "data": {
      "text/html": [
       "<div>\n",
       "<style scoped>\n",
       "    .dataframe tbody tr th:only-of-type {\n",
       "        vertical-align: middle;\n",
       "    }\n",
       "\n",
       "    .dataframe tbody tr th {\n",
       "        vertical-align: top;\n",
       "    }\n",
       "\n",
       "    .dataframe thead th {\n",
       "        text-align: right;\n",
       "    }\n",
       "</style>\n",
       "<table border=\"1\" class=\"dataframe\">\n",
       "  <thead>\n",
       "    <tr style=\"text-align: right;\">\n",
       "      <th></th>\n",
       "      <th>_id</th>\n",
       "      <th>recvTimeTs</th>\n",
       "      <th>attrValue</th>\n",
       "    </tr>\n",
       "    <tr>\n",
       "      <th>recvTime</th>\n",
       "      <th></th>\n",
       "      <th></th>\n",
       "      <th></th>\n",
       "    </tr>\n",
       "  </thead>\n",
       "  <tbody>\n",
       "    <tr>\n",
       "      <th>2020-07-13 10:00:00</th>\n",
       "      <td>222749.5</td>\n",
       "      <td>1.594638e+09</td>\n",
       "      <td>52.000000</td>\n",
       "    </tr>\n",
       "    <tr>\n",
       "      <th>2020-07-13 11:00:00</th>\n",
       "      <td>222765.5</td>\n",
       "      <td>1.594640e+09</td>\n",
       "      <td>104.500000</td>\n",
       "    </tr>\n",
       "    <tr>\n",
       "      <th>2020-07-13 12:00:00</th>\n",
       "      <td>222790.5</td>\n",
       "      <td>1.594643e+09</td>\n",
       "      <td>171.708333</td>\n",
       "    </tr>\n",
       "    <tr>\n",
       "      <th>2020-07-13 13:00:00</th>\n",
       "      <td>222815.0</td>\n",
       "      <td>1.594647e+09</td>\n",
       "      <td>196.080000</td>\n",
       "    </tr>\n",
       "    <tr>\n",
       "      <th>2020-07-13 14:00:00</th>\n",
       "      <td>222840.5</td>\n",
       "      <td>1.594651e+09</td>\n",
       "      <td>169.692308</td>\n",
       "    </tr>\n",
       "    <tr>\n",
       "      <th>...</th>\n",
       "      <td>...</td>\n",
       "      <td>...</td>\n",
       "      <td>...</td>\n",
       "    </tr>\n",
       "    <tr>\n",
       "      <th>2020-07-31 19:00:00</th>\n",
       "      <td>229728.0</td>\n",
       "      <td>1.596224e+09</td>\n",
       "      <td>251.592593</td>\n",
       "    </tr>\n",
       "    <tr>\n",
       "      <th>2020-07-31 20:00:00</th>\n",
       "      <td>229750.0</td>\n",
       "      <td>1.596227e+09</td>\n",
       "      <td>285.235294</td>\n",
       "    </tr>\n",
       "    <tr>\n",
       "      <th>2020-07-31 21:00:00</th>\n",
       "      <td>229766.5</td>\n",
       "      <td>1.596231e+09</td>\n",
       "      <td>301.875000</td>\n",
       "    </tr>\n",
       "    <tr>\n",
       "      <th>2020-07-31 22:00:00</th>\n",
       "      <td>229780.5</td>\n",
       "      <td>1.596235e+09</td>\n",
       "      <td>313.500000</td>\n",
       "    </tr>\n",
       "    <tr>\n",
       "      <th>2020-07-31 23:00:00</th>\n",
       "      <td>229788.0</td>\n",
       "      <td>1.596238e+09</td>\n",
       "      <td>318.333333</td>\n",
       "    </tr>\n",
       "  </tbody>\n",
       "</table>\n",
       "<p>446 rows × 3 columns</p>\n",
       "</div>"
      ],
      "text/plain": [
       "                          _id    recvTimeTs   attrValue\n",
       "recvTime                                               \n",
       "2020-07-13 10:00:00  222749.5  1.594638e+09   52.000000\n",
       "2020-07-13 11:00:00  222765.5  1.594640e+09  104.500000\n",
       "2020-07-13 12:00:00  222790.5  1.594643e+09  171.708333\n",
       "2020-07-13 13:00:00  222815.0  1.594647e+09  196.080000\n",
       "2020-07-13 14:00:00  222840.5  1.594651e+09  169.692308\n",
       "...                       ...           ...         ...\n",
       "2020-07-31 19:00:00  229728.0  1.596224e+09  251.592593\n",
       "2020-07-31 20:00:00  229750.0  1.596227e+09  285.235294\n",
       "2020-07-31 21:00:00  229766.5  1.596231e+09  301.875000\n",
       "2020-07-31 22:00:00  229780.5  1.596235e+09  313.500000\n",
       "2020-07-31 23:00:00  229788.0  1.596238e+09  318.333333\n",
       "\n",
       "[446 rows x 3 columns]"
      ]
     },
     "execution_count": 12,
     "metadata": {},
     "output_type": "execute_result"
    }
   ],
   "source": [
    "# agregamos los datos por horas usando la media\n",
    "df2 = df.set_index('recvTime').resample('H').mean()\n",
    "df2\n",
    "\n"
   ]
  },
  {
   "cell_type": "code",
   "execution_count": 15,
   "metadata": {},
   "outputs": [],
   "source": [
    "# functions\n",
    "def parser(x):\n",
    "    return datetime.strptime(x, '%Y-%m-%dT%H:%M:%S')\n",
    "\n",
    "\n",
    "def read_and_resample(datapath):\n",
    "    df = pd.read_csv(datapath, sep=\";\", parse_dates=[2], date_parser=parser)\n",
    "    df2 = df.set_index('recvTime').resample('H').mean()    \n",
    "    return df2"
   ]
  },
  {
   "cell_type": "markdown",
   "metadata": {},
   "source": [
    "## Hacemos el resample y agregamos los datasets por zonas y fechas"
   ]
  },
  {
   "cell_type": "code",
   "execution_count": 32,
   "metadata": {},
   "outputs": [
    {
     "name": "stdout",
     "output_type": "stream",
     "text": [
      "(446, 4)\n",
      "(446, 3)\n",
      "                           free\n",
      "recvTime                       \n",
      "2020-07-13 10:00:00  167.363636\n",
      "2020-07-13 11:00:00  246.157895\n",
      "2020-07-13 12:00:00  351.465909\n",
      "2020-07-13 13:00:00  404.080000\n",
      "2020-07-13 14:00:00  362.413238\n",
      "...                         ...\n",
      "2020-07-31 19:00:00  512.900285\n",
      "2020-07-31 20:00:00  554.235294\n",
      "2020-07-31 21:00:00  572.875000\n",
      "2020-07-31 22:00:00  586.000000\n",
      "2020-07-31 23:00:00  592.333333\n",
      "\n",
      "[446 rows x 1 columns]\n"
     ]
    }
   ],
   "source": [
    "# Zona 1: La Vega y La libertad -- espacio total = 312 + 330 = 642\n",
    "lavega = read_and_resample('./data/parkings_JULIO/102LaVega.csv')\n",
    "print(lavega.shape) # tiene una columna más, llena de NaNs que ignoramos\n",
    "libertad = read_and_resample('./data/parkings_JULIO/101Libertad.csv')\n",
    "print(libertad.shape)\n",
    "merge=libertad.merge(lavega, how='inner', on='recvTime')\n",
    "merge['free'] = merge['attrValue_x'] + merge['attrValue_y']\n",
    "zone1 = merge[[ 'free']]\n",
    "print(zone1)"
   ]
  },
  {
   "cell_type": "code",
   "execution_count": null,
   "metadata": {},
   "outputs": [],
   "source": [
    "# Zona 2.1: Alfonso X + CentroFama + MoralesMeseguer -- espacio total = 305 + 162+ 220 = 687\n",
    "\n",
    "alfonsox = read_and_resample('./data/parkings_JULIO/103AlfonsoX.csv')\n",
    "print(lavega.shape) # tiene una columna más, llena de NaNs que ignoramos\n",
    "libertad = read_and_resample('./data/parkings_JULIO/101Libertad.csv')\n",
    "print(libertad.shape)\n",
    "merge=libertad.merge(lavega, how='inner', on='recvTime')\n",
    "merge['free'] = merge['attrValue_x'] + merge['attrValue_y']\n",
    "zone1 = merge[[ 'free']]\n",
    "print(zone1)"
   ]
  }
 ],
 "metadata": {
  "kernelspec": {
   "display_name": "Python 3",
   "language": "python",
   "name": "python3"
  },
  "language_info": {
   "codemirror_mode": {
    "name": "ipython",
    "version": 3
   },
   "file_extension": ".py",
   "mimetype": "text/x-python",
   "name": "python",
   "nbconvert_exporter": "python",
   "pygments_lexer": "ipython3",
   "version": "3.8.5"
  }
 },
 "nbformat": 4,
 "nbformat_minor": 2
}
