{
 "cells": [
  {
   "cell_type": "code",
   "execution_count": 1,
   "metadata": {},
   "outputs": [],
   "source": [
    "from pandas import read_csv\n",
    "from matplotlib import pyplot\n",
    "import pandas as pd\n",
    "import os\n",
    "import numpy as np\n",
    "\n",
    "import matplotlib.pyplot as plt\n",
    "from statsmodels.graphics import tsaplots"
   ]
  },
  {
   "cell_type": "code",
   "execution_count": 2,
   "metadata": {},
   "outputs": [],
   "source": [
    "zone1_j_df = pd.read_csv(os.path.join('data', 'parkings_JULIO', 'zone1.csv'), sep=';', parse_dates=['recvTime'], index_col='recvTime')\n",
    "zone1_so_df = pd.read_csv(os.path.join('data', 'parkings_SEPT_OCT', 'zone1.csv'), sep=';', parse_dates=['recvTime'], index_col='recvTime')\n",
    "zone1_df= pd.concat([zone1_j_df,zone1_so_df], axis=0)"
   ]
  },
  {
   "cell_type": "code",
   "execution_count": 3,
   "metadata": {},
   "outputs": [
    {
     "data": {
      "text/html": [
       "<div>\n",
       "<style scoped>\n",
       "    .dataframe tbody tr th:only-of-type {\n",
       "        vertical-align: middle;\n",
       "    }\n",
       "\n",
       "    .dataframe tbody tr th {\n",
       "        vertical-align: top;\n",
       "    }\n",
       "\n",
       "    .dataframe thead th {\n",
       "        text-align: right;\n",
       "    }\n",
       "</style>\n",
       "<table border=\"1\" class=\"dataframe\">\n",
       "  <thead>\n",
       "    <tr style=\"text-align: right;\">\n",
       "      <th></th>\n",
       "      <th>free</th>\n",
       "    </tr>\n",
       "    <tr>\n",
       "      <th>recvTime</th>\n",
       "      <th></th>\n",
       "    </tr>\n",
       "  </thead>\n",
       "  <tbody>\n",
       "    <tr>\n",
       "      <th>2020-07-13 10:00:00</th>\n",
       "      <td>167.363636</td>\n",
       "    </tr>\n",
       "    <tr>\n",
       "      <th>2020-07-13 11:00:00</th>\n",
       "      <td>246.157895</td>\n",
       "    </tr>\n",
       "    <tr>\n",
       "      <th>2020-07-13 12:00:00</th>\n",
       "      <td>351.465909</td>\n",
       "    </tr>\n",
       "    <tr>\n",
       "      <th>2020-07-13 13:00:00</th>\n",
       "      <td>404.080000</td>\n",
       "    </tr>\n",
       "    <tr>\n",
       "      <th>2020-07-13 14:00:00</th>\n",
       "      <td>362.413238</td>\n",
       "    </tr>\n",
       "    <tr>\n",
       "      <th>...</th>\n",
       "      <td>...</td>\n",
       "    </tr>\n",
       "    <tr>\n",
       "      <th>2020-10-19 04:00:00</th>\n",
       "      <td>581.257895</td>\n",
       "    </tr>\n",
       "    <tr>\n",
       "      <th>2020-10-19 05:00:00</th>\n",
       "      <td>563.448780</td>\n",
       "    </tr>\n",
       "    <tr>\n",
       "      <th>2020-10-19 06:00:00</th>\n",
       "      <td>485.062771</td>\n",
       "    </tr>\n",
       "    <tr>\n",
       "      <th>2020-10-19 07:00:00</th>\n",
       "      <td>360.710256</td>\n",
       "    </tr>\n",
       "    <tr>\n",
       "      <th>2020-10-19 08:00:00</th>\n",
       "      <td>257.000000</td>\n",
       "    </tr>\n",
       "  </tbody>\n",
       "</table>\n",
       "<p>926 rows × 1 columns</p>\n",
       "</div>"
      ],
      "text/plain": [
       "                           free\n",
       "recvTime                       \n",
       "2020-07-13 10:00:00  167.363636\n",
       "2020-07-13 11:00:00  246.157895\n",
       "2020-07-13 12:00:00  351.465909\n",
       "2020-07-13 13:00:00  404.080000\n",
       "2020-07-13 14:00:00  362.413238\n",
       "...                         ...\n",
       "2020-10-19 04:00:00  581.257895\n",
       "2020-10-19 05:00:00  563.448780\n",
       "2020-10-19 06:00:00  485.062771\n",
       "2020-10-19 07:00:00  360.710256\n",
       "2020-10-19 08:00:00  257.000000\n",
       "\n",
       "[926 rows x 1 columns]"
      ]
     },
     "execution_count": 3,
     "metadata": {},
     "output_type": "execute_result"
    }
   ],
   "source": [
    "zone1_df"
   ]
  },
  {
   "cell_type": "markdown",
   "metadata": {},
   "source": [
    "## Autocorrelation plot"
   ]
  },
  {
   "cell_type": "code",
   "execution_count": 5,
   "metadata": {},
   "outputs": [
    {
     "data": {
      "image/png": "[encoded data removed]",
      "text/plain": [
       "<Figure size 432x288 with 1 Axes>"
      ]
     },
     "metadata": {
      "needs_background": "light"
     },
     "output_type": "display_data"
    }
   ],
   "source": [
    "# https://machinelearningmastery.com/gentle-introduction-autocorrelation-partial-autocorrelation/\n",
    "fig = tsaplots.plot_acf(zone1_df['free'], lags=40)\n",
    "plt.show()\n",
    "fig.savefig('./figs/autocor_parking.svg')"
   ]
  },
  {
   "cell_type": "markdown",
   "metadata": {},
   "source": [
    "## Partial autocorrelation plot"
   ]
  },
  {
   "cell_type": "code",
   "execution_count": 13,
   "metadata": {},
   "outputs": [
    {
     "data": {
      "image/png": "[encoded data removed]",
      "text/plain": [
       "<Figure size 432x288 with 1 Axes>"
      ]
     },
     "metadata": {
      "needs_background": "light"
     },
     "output_type": "display_data"
    }
   ],
   "source": [
    "fig = tsaplots.plot_pacf(zone1_df['free'], lags=40)\n",
    "plt.show()"
   ]
  }
 ],
 "metadata": {
  "kernelspec": {
   "display_name": "Python 3",
   "language": "python",
   "name": "python3"
  },
  "language_info": {
   "codemirror_mode": {
    "name": "ipython",
    "version": 3
   },
   "file_extension": ".py",
   "mimetype": "text/x-python",
   "name": "python",
   "nbconvert_exporter": "python",
   "pygments_lexer": "ipython3",
   "version": "3.8.5"
  }
 },
 "nbformat": 4,
 "nbformat_minor": 5
}
